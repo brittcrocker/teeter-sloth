{
 "cells": [
  {
   "cell_type": "code",
   "execution_count": 173,
   "metadata": {
    "collapsed": true
   },
   "outputs": [],
   "source": [
    "import agate"
   ]
  },
  {
   "cell_type": "code",
   "execution_count": 174,
   "metadata": {
    "collapsed": false
   },
   "outputs": [],
   "source": [
    "exonerations = agate.Table.from_csv('exonerations-20150828.csv')\n",
    "\n",
    "#tester = agate.TypeTester(force={\n",
    "    #'false_evidence': agate.Boolean()\n",
    "    #'perjury': agate.Boolean()\n",
    "    #'official_misconduct': agate.Boolean()\n",
    "#})\n",
    "\n",
    "#exonerations = agate.Table.from_csv('exonerations-20150828.csv', column_types=tester)`"
   ]
  },
  {
   "cell_type": "code",
   "execution_count": null,
   "metadata": {
    "collapsed": true
   },
   "outputs": [],
   "source": [
    "\n"
   ]
  },
  {
   "cell_type": "code",
   "execution_count": 175,
   "metadata": {
    "collapsed": true
   },
   "outputs": [],
   "source": [
    "#tester = agate.TypeTester(limit=100)\n",
    "\n",
    "#exonerations = agate.Table.from_csv('exonerations-20150828.csv', tester)"
   ]
  },
  {
   "cell_type": "code",
   "execution_count": 176,
   "metadata": {
    "collapsed": false
   },
   "outputs": [
    {
     "name": "stdout",
     "output_type": "stream",
     "text": [
      "<agate.Column: (u'Abbitt', u'Abdal', u'Abernathy', u'Acero', u'Adams', ...)>\n"
     ]
    }
   ],
   "source": [
    "print exonerations.columns['last_name']\n"
   ]
  },
  {
   "cell_type": "code",
   "execution_count": 177,
   "metadata": {
    "collapsed": false
   },
   "outputs": [
    {
     "name": "stdout",
     "output_type": "stream",
     "text": [
      "<agate.Column: (u'Abbitt', u'Abdal', u'Abernathy', u'Acero', u'Adams', ...)>\n"
     ]
    }
   ],
   "source": [
    "print exonerations.columns[0]"
   ]
  },
  {
   "cell_type": "code",
   "execution_count": 178,
   "metadata": {
    "collapsed": false
   },
   "outputs": [
    {
     "name": "stdout",
     "output_type": "stream",
     "text": [
      "<agate.Row: (u'Abbitt', u'Joseph Lamont', Decimal('31'), u'Black', u'NC', ...)>\n"
     ]
    }
   ],
   "source": [
    "firstrow = exonerations.rows[0]\n",
    "\n",
    "print firstrow\n"
   ]
  },
  {
   "cell_type": "code",
   "execution_count": 179,
   "metadata": {
    "collapsed": false
   },
   "outputs": [
    {
     "name": "stdout",
     "output_type": "stream",
     "text": [
      "True\n"
     ]
    }
   ],
   "source": [
    "print firstrow['dna']"
   ]
  },
  {
   "cell_type": "code",
   "execution_count": 180,
   "metadata": {
    "collapsed": false
   },
   "outputs": [
    {
     "name": "stdout",
     "output_type": "stream",
     "text": [
      "211\n"
     ]
    }
   ],
   "source": [
    "num_false_confessions = exonerations.aggregate(agate.Count('false_confession', True))\n",
    "\n",
    "print(num_false_confessions)"
   ]
  },
  {
   "cell_type": "code",
   "execution_count": 181,
   "metadata": {
    "collapsed": false
   },
   "outputs": [
    {
     "name": "stdout",
     "output_type": "stream",
     "text": [
      "26\n"
     ]
    }
   ],
   "source": [
    "median_age = exonerations.aggregate(agate.Median('age'))\n",
    "\n",
    "print(median_age)\n"
   ]
  },
  {
   "cell_type": "code",
   "execution_count": 182,
   "metadata": {
    "collapsed": false
   },
   "outputs": [
    {
     "name": "stdout",
     "output_type": "stream",
     "text": [
      "9\n"
     ]
    }
   ],
   "source": [
    "num_without_age = exonerations.aggregate(agate.Count('age', None))\n",
    "\n",
    "print(num_without_age)"
   ]
  },
  {
   "cell_type": "code",
   "execution_count": 198,
   "metadata": {
    "collapsed": false
   },
   "outputs": [
    {
     "name": "stdout",
     "output_type": "stream",
     "text": [
      "34\n"
     ]
    }
   ],
   "source": [
    "mo = exonerations.aggregate(agate.Count(\"state\", \"MO\"))\n",
    "print mo"
   ]
  },
  {
   "cell_type": "code",
   "execution_count": null,
   "metadata": {
    "collapsed": true
   },
   "outputs": [],
   "source": []
  },
  {
   "cell_type": "code",
   "execution_count": null,
   "metadata": {
    "collapsed": true
   },
   "outputs": [],
   "source": []
  },
  {
   "cell_type": "code",
   "execution_count": 184,
   "metadata": {
    "collapsed": true
   },
   "outputs": [],
   "source": [
    "with_age = exonerations.where(lambda row: row['age'] is not None)\n"
   ]
  },
  {
   "cell_type": "code",
   "execution_count": 185,
   "metadata": {
    "collapsed": false
   },
   "outputs": [
    {
     "name": "stdout",
     "output_type": "stream",
     "text": [
      "9\n"
     ]
    }
   ],
   "source": [
    "old = len(exonerations.rows)\n",
    "new = len(with_age.rows)\n",
    "\n",
    "print(old - new)"
   ]
  },
  {
   "cell_type": "code",
   "execution_count": 186,
   "metadata": {
    "collapsed": false
   },
   "outputs": [
    {
     "name": "stdout",
     "output_type": "stream",
     "text": [
      "26\n"
     ]
    }
   ],
   "source": [
    "median_age = with_age.aggregate(agate.Median('age'))\n",
    "\n",
    "print(median_age)"
   ]
  },
  {
   "cell_type": "code",
   "execution_count": 187,
   "metadata": {
    "collapsed": false
   },
   "outputs": [
    {
     "name": "stdout",
     "output_type": "stream",
     "text": [
      "8\n"
     ]
    }
   ],
   "source": [
    "with_years_in_prison = exonerations.compute([\n",
    "    ('years_in_prison', agate.Change('convicted', 'exonerated'))\n",
    "])\n",
    "\n",
    "median_years = with_years_in_prison.aggregate(agate.Median('years_in_prison'))\n",
    "\n",
    "print(median_years)"
   ]
  },
  {
   "cell_type": "code",
   "execution_count": 188,
   "metadata": {
    "collapsed": true
   },
   "outputs": [],
   "source": [
    "full_names = exonerations.compute([\n",
    "    ('full_name', agate.Formula(agate.Text(), lambda row: '%(first_name)s %(last_name)s' % row))\n",
    "])"
   ]
  },
  {
   "cell_type": "code",
   "execution_count": 189,
   "metadata": {
    "collapsed": true
   },
   "outputs": [],
   "source": [
    "with_computations = exonerations.compute([\n",
    "    ('full_name', agate.Formula(agate.Text(), lambda row: '%(first_name)s %(last_name)s' % row)),\n",
    "    ('years_in_prison', agate.Change('convicted', 'exonerated'))\n",
    "])\n"
   ]
  },
  {
   "cell_type": "code",
   "execution_count": 190,
   "metadata": {
    "collapsed": true
   },
   "outputs": [],
   "source": [
    "sorted_by_age = exonerations.order_by('age')"
   ]
  },
  {
   "cell_type": "code",
   "execution_count": 191,
   "metadata": {
    "collapsed": true
   },
   "outputs": [],
   "source": [
    "youngest_ten = sorted_by_age.limit(10)"
   ]
  },
  {
   "cell_type": "code",
   "execution_count": 192,
   "metadata": {
    "collapsed": false
   },
   "outputs": [
    {
     "name": "stdout",
     "output_type": "stream",
     "text": [
      "|------------+------------+-----+-----------+-------+---------+---------+------|\n",
      "|  last_name | first_name | age | race      | state | tags    | crime   | ...  |\n",
      "|------------+------------+-----+-----------+-------+---------+---------+------|\n",
      "|  Murray    | Lacresha   |  11 | Black     | TX    | CV, F   | Murder  | ...  |\n",
      "|  Adams     | Johnathan  |  12 | Caucasian | GA    | CV, P   | Murder  | ...  |\n",
      "|  Harris    | Anthony    |  12 | Black     | OH    | CV      | Murder  | ...  |\n",
      "|  Edmonds   | Tyler      |  13 | Caucasian | MS    |         | Murder  | ...  |\n",
      "|  Handley   | Zachary    |  13 | Caucasian | PA    | A, CV   | Arson   | ...  |\n",
      "|  Jimenez   | Thaddeus   |  13 | Hispanic  | IL    |         | Murder  | ...  |\n",
      "|  Pacek     | Jerry      |  13 | Caucasian | PA    |         | Murder  | ...  |\n",
      "|  Barr      | Jonathan   |  14 | Black     | IL    | CDC, CV | Murder  | ...  |\n",
      "|  Brim      | Dominique  |  14 | Black     | MI    | F       | Assault | ...  |\n",
      "|  Brown     | Timothy    |  14 | Black     | FL    |         | Murder  | ...  |\n",
      "|------------+------------+-----+-----------+-------+---------+---------+------|\n"
     ]
    }
   ],
   "source": [
    "youngest_ten.print_table(max_columns=7)"
   ]
  },
  {
   "cell_type": "code",
   "execution_count": 193,
   "metadata": {
    "collapsed": false
   },
   "outputs": [
    {
     "name": "stdout",
     "output_type": "stream",
     "text": [
      "age       Count\n",
      "[10 - 20)   307 ▓░░░░░░░░░░░░░░░░░░░░░░░░                                       \n",
      "[20 - 30)   718 ▓░░░░░░░░░░░░░░░░░░░░░░░░░░░░░░░░░░░░░░░░░░░░░░░░░░░░░░░░░      \n",
      "[30 - 40)   377 ▓░░░░░░░░░░░░░░░░░░░░░░░░░░░░░░                                 \n",
      "[40 - 50)   176 ▓░░░░░░░░░░░░░░                                                 \n",
      "[50 - 60)    53 ▓░░░░                                                           \n",
      "[60 - 70)    10 ▓░                                                              \n",
      "[80 - 90)     1 ▓                                                               \n",
      "None          9 ▓░                                                              \n",
      "                +---------------+---------------+--------------+---------------+\n",
      "                0              200             400            600            800\n"
     ]
    }
   ],
   "source": [
    "binned_ages = exonerations.bins('age', 10, 0, 100)\n",
    "binned_ages.print_bars('age', 'Count', width=80)"
   ]
  },
  {
   "cell_type": "code",
   "execution_count": 194,
   "metadata": {
    "collapsed": true
   },
   "outputs": [],
   "source": [
    "by_state = exonerations.group_by('state')"
   ]
  },
  {
   "cell_type": "code",
   "execution_count": 195,
   "metadata": {
    "collapsed": false
   },
   "outputs": [
    {
     "name": "stdout",
     "output_type": "stream",
     "text": [
      "|--------+--------|\n",
      "|  state | count  |\n",
      "|--------+--------|\n",
      "|  TX    |   212  |\n",
      "|  NY    |   202  |\n",
      "|  CA    |   154  |\n",
      "|  IL    |   153  |\n",
      "|  MI    |    60  |\n",
      "|  ...   |   ...  |\n",
      "|--------+--------|\n"
     ]
    }
   ],
   "source": [
    "state_totals = by_state.aggregate([\n",
    "    ('count', agate.Count())\n",
    "])\n",
    "\n",
    "sorted_totals = state_totals.order_by('count', reverse=True)\n",
    "\n",
    "sorted_totals.print_table(max_rows=5)"
   ]
  },
  {
   "cell_type": "code",
   "execution_count": 196,
   "metadata": {
    "collapsed": false
   },
   "outputs": [
    {
     "name": "stdout",
     "output_type": "stream",
     "text": [
      "|--------+-------+-------------------------|\n",
      "|  state | count | median_years_in_prison  |\n",
      "|--------+-------+-------------------------|\n",
      "|  DC    |    15 |                     27  |\n",
      "|  NE    |     9 |                     20  |\n",
      "|  ID    |     2 |                     19  |\n",
      "|  VT    |     1 |                     18  |\n",
      "|  LA    |    45 |                     16  |\n",
      "|  ...   |   ... |                    ...  |\n",
      "|--------+-------+-------------------------|\n"
     ]
    }
   ],
   "source": [
    "with_years_in_prison = exonerations.compute([\n",
    "    ('years_in_prison', agate.Change('convicted', 'exonerated'))\n",
    "])\n",
    "\n",
    "state_totals = with_years_in_prison.group_by('state')\n",
    "\n",
    "medians = state_totals.aggregate([\n",
    "    ('count', agate.Count()),\n",
    "    ('median_years_in_prison', agate.Median('years_in_prison'))\n",
    "])\n",
    "\n",
    "sorted_medians = medians.order_by('median_years_in_prison', reverse=True)\n",
    "\n",
    "sorted_medians.print_table(max_rows=5)"
   ]
  },
  {
   "cell_type": "code",
   "execution_count": 197,
   "metadata": {
    "collapsed": false
   },
   "outputs": [
    {
     "name": "stdout",
     "output_type": "stream",
     "text": [
      "|------------------+-----------+-------+-------------------------|\n",
      "|  race            | age_group | count | median_years_in_prison  |\n",
      "|------------------+-----------+-------+-------------------------|\n",
      "|  Native American | 20s       |     2 |                   21.5  |\n",
      "|                  | 20s       |     1 |                   19.0  |\n",
      "|  Native American | 10s       |     2 |                   15.0  |\n",
      "|  Native American | 30s       |     2 |                   14.5  |\n",
      "|  Black           | 10s       |   188 |                   14.0  |\n",
      "|  Black           | 20s       |   358 |                   13.0  |\n",
      "|  Asian           | 20s       |     4 |                   12.0  |\n",
      "|  Black           | 30s       |   156 |                   10.0  |\n",
      "|  Caucasian       | 10s       |    76 |                    8.0  |\n",
      "|  Caucasian       | 20s       |   255 |                    8.0  |\n",
      "|  ...             | ...       |   ... |                    ...  |\n",
      "|------------------+-----------+-------+-------------------------|\n"
     ]
    }
   ],
   "source": [
    "# Filters rows without age data\n",
    "only_with_age = with_years_in_prison.where(\n",
    "    lambda r: r['age'] is not None\n",
    ")\n",
    "\n",
    "# Group by race\n",
    "race_groups = only_with_age.group_by('race')\n",
    "\n",
    "# Sub-group by age cohorts (20s, 30s, etc.)\n",
    "race_and_age_groups = race_groups.group_by(\n",
    "    lambda r: '%i0s' % (r['age'] // 10),\n",
    "    key_name='age_group'\n",
    ")\n",
    "\n",
    "# Aggregate medians for each group\n",
    "medians = race_and_age_groups.aggregate([\n",
    "    ('count', agate.Count()),\n",
    "    ('median_years_in_prison', agate.Median('years_in_prison'))\n",
    "])\n",
    "\n",
    "# Sort the results\n",
    "sorted_groups = medians.order_by('median_years_in_prison', reverse=True)\n",
    "\n",
    "# Print out the results\n",
    "sorted_groups.print_table(max_rows=10)"
   ]
  },
  {
   "cell_type": "code",
   "execution_count": null,
   "metadata": {
    "collapsed": true
   },
   "outputs": [],
   "source": []
  },
  {
   "cell_type": "code",
   "execution_count": null,
   "metadata": {
    "collapsed": true
   },
   "outputs": [],
   "source": []
  },
  {
   "cell_type": "code",
   "execution_count": null,
   "metadata": {
    "collapsed": true
   },
   "outputs": [],
   "source": []
  },
  {
   "cell_type": "code",
   "execution_count": null,
   "metadata": {
    "collapsed": true
   },
   "outputs": [],
   "source": []
  },
  {
   "cell_type": "code",
   "execution_count": null,
   "metadata": {
    "collapsed": true
   },
   "outputs": [],
   "source": []
  }
 ],
 "metadata": {
  "kernelspec": {
   "display_name": "Python 2",
   "language": "python",
   "name": "python2"
  },
  "language_info": {
   "codemirror_mode": {
    "name": "ipython",
    "version": 2
   },
   "file_extension": ".py",
   "mimetype": "text/x-python",
   "name": "python",
   "nbconvert_exporter": "python",
   "pygments_lexer": "ipython2",
   "version": "2.7.10"
  }
 },
 "nbformat": 4,
 "nbformat_minor": 0
}
